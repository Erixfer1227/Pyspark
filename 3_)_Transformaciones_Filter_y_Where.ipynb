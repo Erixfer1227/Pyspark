{
  "nbformat": 4,
  "nbformat_minor": 0,
  "metadata": {
    "colab": {
      "provenance": []
    },
    "kernelspec": {
      "name": "python3",
      "display_name": "Python 3"
    },
    "language_info": {
      "name": "python"
    }
  },
  "cells": [
    {
      "cell_type": "code",
      "execution_count": 1,
      "metadata": {
        "id": "0YAu-TCuuB3A"
      },
      "outputs": [],
      "source": [
        "# Instalar la librería findspark\n",
        "# Va a permitir encontrar spark dentro de nuestra maquina\n",
        "\n",
        "!pip install -q findspark\n",
        "\n",
        "# Instalar pyspark\n",
        "\n",
        "!pip install -q pyspark\n",
        "\n",
        "# Como crear una sesión de spark (SparkSession)\n",
        "\n",
        "import findspark\n",
        "findspark.init() # Es de utilidad para encontrar donde esta la instalacion de spark en mi computadora\n",
        "\n",
        "from pyspark.sql import SparkSession # Importar el sparksession\n",
        "\n",
        "spark = SparkSession.builder.getOrCreate() # Crear la sesion de spark (sparksession)\n",
        "sc = spark.sparkContext # Crear el contexto de spark\n",
        "\n",
        "from pyspark.sql import functions as F # Importar funciones de spark"
      ]
    },
    {
      "cell_type": "code",
      "source": [
        "from pyspark.sql import functions as F"
      ],
      "metadata": {
        "id": "0RhDIPiVurm7"
      },
      "execution_count": 3,
      "outputs": []
    },
    {
      "cell_type": "code",
      "source": [
        "# Leyendo los datos\n",
        "df = spark.read.parquet('/content/datos.parquet')"
      ],
      "metadata": {
        "id": "K-KiQiDiuJgw"
      },
      "execution_count": 2,
      "outputs": []
    },
    {
      "cell_type": "code",
      "source": [
        "# Funcion Filter\n",
        "df.filter(F.col('video_id') == '2kyS6SvSYSE').show(5)"
      ],
      "metadata": {
        "colab": {
          "base_uri": "https://localhost:8080/"
        },
        "id": "uMO8CPgRugPC",
        "outputId": "28a78da2-07e2-4969-aa0f-e7eed6515d24"
      },
      "execution_count": 17,
      "outputs": [
        {
          "output_type": "stream",
          "name": "stdout",
          "text": [
            "+-----------+-------------+--------------------+-------------+-----------+-------------------+---------------+-------+-----+--------+-------------+--------------------+-----------------+----------------+----------------------+--------------------+\n",
            "|   video_id|trending_date|               title|channel_title|category_id|       publish_time|           tags|  views|likes|dislikes|comment_count|      thumbnail_link|comments_disabled|ratings_disabled|video_error_or_removed|         description|\n",
            "+-----------+-------------+--------------------+-------------+-----------+-------------------+---------------+-------+-----+--------+-------------+--------------------+-----------------+----------------+----------------------+--------------------+\n",
            "|2kyS6SvSYSE|     17.14.11|WE WANT TO TALK A...| CaseyNeistat|         22|2017-11-13 17:13:01|SHANtell martin| 748374|57527|    2966|        15954|https://i.ytimg.c...|            False|           False|                 False|SHANTELL'S CHANNE...|\n",
            "|2kyS6SvSYSE|     17.15.11|WE WANT TO TALK A...| CaseyNeistat|         22|2017-11-13 17:13:01|SHANtell martin|2188590|88099|    7150|        24225|https://i.ytimg.c...|            False|           False|                 False|SHANTELL'S CHANNE...|\n",
            "|2kyS6SvSYSE|     17.16.11|WE WANT TO TALK A...| CaseyNeistat|         22|2017-11-13 17:13:01|SHANtell martin|2325233|91111|    7543|        21450|https://i.ytimg.c...|            False|           False|                 False|SHANTELL'S CHANNE...|\n",
            "|2kyS6SvSYSE|     17.17.11|WE WANT TO TALK A...| CaseyNeistat|         22|2017-11-13 17:13:01|SHANtell martin|2400741|92831|    7687|        21714|https://i.ytimg.c...|            False|           False|                 False|SHANTELL'S CHANNE...|\n",
            "|2kyS6SvSYSE|     17.18.11|WE WANT TO TALK A...| CaseyNeistat|         22|2017-11-13 17:13:01|SHANtell martin|2468267|94303|    7802|        21866|https://i.ytimg.c...|            False|           False|                 False|SHANTELL'S CHANNE...|\n",
            "+-----------+-------------+--------------------+-------------+-----------+-------------------+---------------+-------+-----+--------+-------------+--------------------+-----------------+----------------+----------------------+--------------------+\n",
            "only showing top 5 rows\n",
            "\n"
          ]
        }
      ]
    },
    {
      "cell_type": "code",
      "source": [
        "# Funcion Where\n",
        "df.where(F.col('trending_date')!= '17.14.11').show(5) # Incluso los operadores logicos se gestionan igual que en sql"
      ],
      "metadata": {
        "colab": {
          "base_uri": "https://localhost:8080/"
        },
        "id": "RvgC6Yo_vP1B",
        "outputId": "aab7ec0a-ae04-46fc-a3a4-c056433413c6"
      },
      "execution_count": 16,
      "outputs": [
        {
          "output_type": "stream",
          "name": "stdout",
          "text": [
            "+--------------------+--------------------+--------------------+--------------------+--------------------+-------------------+--------------------+------+-----+--------+-------------+--------------------+-----------------+----------------+----------------------+--------------------+\n",
            "|            video_id|       trending_date|               title|       channel_title|         category_id|       publish_time|                tags| views|likes|dislikes|comment_count|      thumbnail_link|comments_disabled|ratings_disabled|video_error_or_removed|         description|\n",
            "+--------------------+--------------------+--------------------+--------------------+--------------------+-------------------+--------------------+------+-----+--------+-------------+--------------------+-----------------+----------------+----------------------+--------------------+\n",
            "|\\nCook with confi...|             recipes|              videos| and restaurant g...| dining destinations|               NULL|                NULL|  NULL| NULL|    NULL|         NULL|                NULL|             NULL|            NULL|                  NULL|                NULL|\n",
            "|\\nVogue is the au...|      culture trends|     beauty coverage|              videos|     celebrity style|               NULL|                NULL|  NULL| NULL|    NULL|         NULL|                NULL|             NULL|            NULL|                  NULL|                NULL|\n",
            "|\\nWIRED is where ...| WIRED explores t...|          innovation| and culture.\\n\\n...|                NULL|               NULL|                NULL|  NULL| NULL|    NULL|         NULL|                NULL|             NULL|            NULL|                  NULL|                NULL|\n",
            "|         YvfYK0EEhK4|            17.15.11|Brent Pella - Why...|         Brent Pella|                  23|2017-11-14 15:32:51|\"spirit airlines\"...|462490|14132|     795|          666|https://i.ytimg.c...|            False|           False|                 False|Traveling for the...|\n",
            "|         cxMvzK2OQTw|            17.15.11|Cards Against Hum...|Cards Against Hum...|                  23|2017-11-14 16:43:11|              [none]|295217| 4854|    1439|         1267|https://i.ytimg.c...|            False|           False|                 False|Narrated by Peter...|\n",
            "+--------------------+--------------------+--------------------+--------------------+--------------------+-------------------+--------------------+------+-----+--------+-------------+--------------------+-----------------+----------------+----------------------+--------------------+\n",
            "only showing top 5 rows\n",
            "\n"
          ]
        }
      ]
    },
    {
      "cell_type": "code",
      "source": [
        "# Ejemplo 2: Funcion Where\n",
        "df.where(F.col('likes') > 500000).show(5)"
      ],
      "metadata": {
        "colab": {
          "base_uri": "https://localhost:8080/"
        },
        "id": "-kyrshBmvtNC",
        "outputId": "dc74c0da-524f-4132-cef7-1d788fcd5067"
      },
      "execution_count": 15,
      "outputs": [
        {
          "output_type": "stream",
          "name": "stdout",
          "text": [
            "+-----------+-------------+--------------------+---------------+-----------+-------------------+--------------------+--------+-------+--------+-------------+--------------------+-----------------+----------------+----------------------+--------------------+\n",
            "|   video_id|trending_date|               title|  channel_title|category_id|       publish_time|                tags|   views|  likes|dislikes|comment_count|      thumbnail_link|comments_disabled|ratings_disabled|video_error_or_removed|         description|\n",
            "+-----------+-------------+--------------------+---------------+-----------+-------------------+--------------------+--------+-------+--------+-------------+--------------------+-----------------+----------------+----------------------+--------------------+\n",
            "|n1WpP7iowLc|     17.14.11|Eminem - Walk On ...|     EminemVEVO|         10|2017-11-10 17:00:03|\"Eminem\"|\"Walk\"|\"...|17158531| 787419|   43420|       125882|https://i.ytimg.c...|            False|           False|                 False|Eminem's new trac...|\n",
            "|2Vv-BfVoq4g|     17.14.11|Ed Sheeran - Perf...|     Ed Sheeran|         10|2017-11-09 11:04:14|\"edsheeran\"|\"ed s...|33523622|1634124|   21082|        85067|https://i.ytimg.c...|            False|           False|                 False|🎧: https://ad.gt...|\n",
            "|9wg3v-01yKQ|     17.14.11| Harry Styles - Kiwi|HarryStylesVEVO|         10|2017-11-08 13:00:01|\"Columbia\"|\"Harry...| 9632678| 810895|   16139|        59473|https://i.ytimg.c...|            False|           False|                 False|Harry Styles' sel...|\n",
            "|n1WpP7iowLc|     17.15.11|Eminem - Walk On ...|     EminemVEVO|         10|2017-11-10 17:00:03|\"Eminem\"|\"Walk\"|\"...|20539417| 840642|   47715|       124236|https://i.ytimg.c...|            False|           False|                 False|Eminem's new trac...|\n",
            "|2Vv-BfVoq4g|     17.15.11|Ed Sheeran - Perf...|     Ed Sheeran|         10|2017-11-09 11:04:14|\"edsheeran\"|\"ed s...|39082222|1721383|   23137|        90352|https://i.ytimg.c...|            False|           False|                 False|🎧: https://ad.gt...|\n",
            "+-----------+-------------+--------------------+---------------+-----------+-------------------+--------------------+--------+-------+--------+-------------+--------------------+-----------------+----------------+----------------------+--------------------+\n",
            "only showing top 5 rows\n",
            "\n"
          ]
        }
      ]
    },
    {
      "cell_type": "code",
      "source": [
        "# Ejemplo 2: Funcion Filter\n",
        "# En condiciones de filtrado con condiciones multiples se debera encerrar en parentesis cada condición\n",
        "df.filter((F.col('trending_date') != '17.14.11') & (F.col('likes') > 700000)).show(5)\n",
        "\n",
        "# La misma condición de filtrado puedo escribirla seguida de muchos filters\n",
        "\n",
        "# df.filter(F.col('trending_date') != '17.14.11').filter(F.col('likes') > 700000).show()"
      ],
      "metadata": {
        "colab": {
          "base_uri": "https://localhost:8080/"
        },
        "id": "NqfLMstRwUJV",
        "outputId": "e55d0e91-16f6-4171-e5d9-57288cecea19"
      },
      "execution_count": 25,
      "outputs": [
        {
          "output_type": "stream",
          "name": "stdout",
          "text": [
            "+-----------+-------------+-------------------------+-------------+-----------+-------------------+------------------------+--------+-------+--------+-------------+--------------------+-----------------+----------------+----------------------+-------------------------+\n",
            "|   video_id|trending_date|                    title|channel_title|category_id|       publish_time|                    tags|   views|  likes|dislikes|comment_count|      thumbnail_link|comments_disabled|ratings_disabled|video_error_or_removed|              description|\n",
            "+-----------+-------------+-------------------------+-------------+-----------+-------------------+------------------------+--------+-------+--------+-------------+--------------------+-----------------+----------------+----------------------+-------------------------+\n",
            "|n1WpP7iowLc|     17.15.11|     Eminem - Walk On ...|   EminemVEVO|         10|2017-11-10 17:00:03|    \"Eminem\"|\"Walk\"|\"...|20539417| 840642|   47715|       124236|https://i.ytimg.c...|            False|           False|                 False|     Eminem's new trac...|\n",
            "|2Vv-BfVoq4g|     17.15.11|     Ed Sheeran - Perf...|   Ed Sheeran|         10|2017-11-09 11:04:14|    \"edsheeran\"|\"ed s...|39082222|1721383|   23137|        90352|https://i.ytimg.c...|            False|           False|                 False|     🎧: https://ad.gt...|\n",
            "|n1WpP7iowLc|     17.16.11|     Eminem - Walk On ...|   EminemVEVO|         10|2017-11-10 17:00:03|    \"Eminem\"|\"Walk\"|\"...|22702386| 869304|   50018|       123227|https://i.ytimg.c...|            False|           False|                 False|     Eminem's new trac...|\n",
            "|2Vv-BfVoq4g|     17.16.11|     Ed Sheeran - Perf...|   Ed Sheeran|         10|2017-11-09 11:04:14|    \"edsheeran\"|\"ed s...|43449654|1788960|   24548|        93428|https://i.ytimg.c...|            False|           False|                 False|     🎧: https://ad.gt...|\n",
            "|ixxR3ZoqnF0|     17.17.11|BTS (방탄소년단) 'MIC ...|      ibighit|         10|2017-11-16 15:00:05|\"BIGHIT\"|\"빅히트\"|\"방...| 3483755| 789750|    2840|        72376|https://i.ytimg.c...|            False|           False|                 False|BTS (방탄소년단) 'MIC ...|\n",
            "+-----------+-------------+-------------------------+-------------+-----------+-------------------+------------------------+--------+-------+--------+-------------+--------------------+-----------------+----------------+----------------------+-------------------------+\n",
            "only showing top 5 rows\n",
            "\n"
          ]
        }
      ]
    }
  ]
}