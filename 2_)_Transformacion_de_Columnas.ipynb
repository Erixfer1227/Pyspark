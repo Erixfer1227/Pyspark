{
  "nbformat": 4,
  "nbformat_minor": 0,
  "metadata": {
    "colab": {
      "provenance": []
    },
    "kernelspec": {
      "name": "python3",
      "display_name": "Python 3"
    },
    "language_info": {
      "name": "python"
    }
  },
  "cells": [
    {
      "cell_type": "code",
      "execution_count": null,
      "metadata": {
        "id": "KA7OF1T5Nfz2"
      },
      "outputs": [],
      "source": [
        "# Instalar la librería findspark\n",
        "# Va a permitir encontrar spark dentro de nuestra maquina\n",
        "\n",
        "!pip install -q findspark\n",
        "\n",
        "# Instalar pyspark\n",
        "\n",
        "!pip install -q pyspark\n",
        "\n",
        "# Como crear una sesión de spark (SparkSession)\n",
        "\n",
        "import findspark\n",
        "findspark.init() # Es de utilidad para encontrar donde esta la instalacion de spark en mi computadora\n",
        "\n",
        "from pyspark.sql import SparkSession # Importar el sparksession\n",
        "\n",
        "spark = SparkSession.builder.getOrCreate() # Crear la sesion de spark (sparksession)\n",
        "sc = spark.sparkContext # Crear el contexto de spark"
      ]
    },
    {
      "cell_type": "code",
      "source": [
        "df = spark.read.option('header', 'true').parquet('/content/data/dataPARQUET.parquet')"
      ],
      "metadata": {
        "id": "Lpfj-FvJN5CN"
      },
      "execution_count": null,
      "outputs": []
    },
    {
      "cell_type": "code",
      "source": [
        "df.printSchema()"
      ],
      "metadata": {
        "colab": {
          "base_uri": "https://localhost:8080/"
        },
        "id": "vf7fdPZmOO8o",
        "outputId": "0bdbc0a3-2c2f-45e7-8e09-9108a5df3391"
      },
      "execution_count": null,
      "outputs": [
        {
          "output_type": "stream",
          "name": "stdout",
          "text": [
            "root\n",
            " |-- video_id: string (nullable = true)\n",
            " |-- trending_date: string (nullable = true)\n",
            " |-- title: string (nullable = true)\n",
            " |-- channel_title: string (nullable = true)\n",
            " |-- category_id: string (nullable = true)\n",
            " |-- publish_time: string (nullable = true)\n",
            " |-- tags: string (nullable = true)\n",
            " |-- views: string (nullable = true)\n",
            " |-- likes: string (nullable = true)\n",
            " |-- dislikes: string (nullable = true)\n",
            " |-- comment_count: string (nullable = true)\n",
            " |-- thumbnail_link: string (nullable = true)\n",
            " |-- comments_disabled: string (nullable = true)\n",
            " |-- ratings_disabled: string (nullable = true)\n",
            " |-- video_error_or_removed: string (nullable = true)\n",
            " |-- description: string (nullable = true)\n",
            "\n"
          ]
        }
      ]
    },
    {
      "cell_type": "code",
      "source": [
        "# Sentencia \".select('col1')\"\n",
        "df.select('video_id').show()"
      ],
      "metadata": {
        "colab": {
          "base_uri": "https://localhost:8080/"
        },
        "id": "D-7BF2usOW5F",
        "outputId": "cbaf2531-7303-4f30-ab7c-1e9f9e5ae854"
      },
      "execution_count": null,
      "outputs": [
        {
          "output_type": "stream",
          "name": "stdout",
          "text": [
            "+-----------+\n",
            "|   video_id|\n",
            "+-----------+\n",
            "|2kyS6SvSYSE|\n",
            "|1ZAPwfrtAFY|\n",
            "|5qpjK5DgCt4|\n",
            "|puqaWrEC7tY|\n",
            "|d380meD0W0M|\n",
            "|gHZ1Qz0KiKM|\n",
            "|39idVpFF7NQ|\n",
            "|nc99ccSXST0|\n",
            "|jr9QtXwC9vc|\n",
            "|TUmyygCMMGA|\n",
            "|9wRQljFNDW8|\n",
            "|VifQlJit6A0|\n",
            "|5E4ZBSInqUU|\n",
            "|GgVmn66oK_A|\n",
            "|TaTleo4cOs8|\n",
            "|kgaO45SyaO4|\n",
            "|ZAQs-ctOqXQ|\n",
            "|YVfyYrEmzgM|\n",
            "|eNSN6qet1kE|\n",
            "|B5HORANmzHw|\n",
            "+-----------+\n",
            "only showing top 20 rows\n",
            "\n"
          ]
        }
      ]
    },
    {
      "cell_type": "code",
      "source": [
        "from pyspark.sql import functions as F"
      ],
      "metadata": {
        "id": "jTneLP4rPIAW"
      },
      "execution_count": null,
      "outputs": []
    },
    {
      "cell_type": "code",
      "source": [
        "df.select(F.col('video_id')).show()"
      ],
      "metadata": {
        "colab": {
          "base_uri": "https://localhost:8080/"
        },
        "id": "aDdFbKpRPcJ0",
        "outputId": "c7670eb3-dc1c-44b4-e4cd-82ce7c0cd925"
      },
      "execution_count": null,
      "outputs": [
        {
          "output_type": "stream",
          "name": "stdout",
          "text": [
            "+-----------+\n",
            "|   video_id|\n",
            "+-----------+\n",
            "|2kyS6SvSYSE|\n",
            "|1ZAPwfrtAFY|\n",
            "|5qpjK5DgCt4|\n",
            "|puqaWrEC7tY|\n",
            "|d380meD0W0M|\n",
            "|gHZ1Qz0KiKM|\n",
            "|39idVpFF7NQ|\n",
            "|nc99ccSXST0|\n",
            "|jr9QtXwC9vc|\n",
            "|TUmyygCMMGA|\n",
            "|9wRQljFNDW8|\n",
            "|VifQlJit6A0|\n",
            "|5E4ZBSInqUU|\n",
            "|GgVmn66oK_A|\n",
            "|TaTleo4cOs8|\n",
            "|kgaO45SyaO4|\n",
            "|ZAQs-ctOqXQ|\n",
            "|YVfyYrEmzgM|\n",
            "|eNSN6qet1kE|\n",
            "|B5HORANmzHw|\n",
            "+-----------+\n",
            "only showing top 20 rows\n",
            "\n"
          ]
        }
      ]
    },
    {
      "cell_type": "code",
      "source": [
        "# Funciones: F.col y .alias('Nuevo_Nombre')\n",
        "# Con F.col() puedo hacer calculo de columnas combinadas, tal cual sql\n",
        "# Despues del select puedo llamar un atributo o hacer calculos con esos atributos\n",
        "# Funcion .alias() permite renombrar campos calculados como query de sql, solo que hay que encerrar en parentesis el calculo para usarla\n",
        "df.select(\n",
        "    F.col('likes'),\n",
        "    F.col('dislikes'),\n",
        "    (F.col('likes') - F.col('dislikes')).alias('likes_netos_val'),\n",
        "    (F.col('likes') / F.col('dislikes')).alias('ratio_likes_dislikes_val')\n",
        "    ).show()"
      ],
      "metadata": {
        "colab": {
          "base_uri": "https://localhost:8080/"
        },
        "id": "JSPNqEUtQaEh",
        "outputId": "4364221c-f065-4664-80be-7bde60197caf"
      },
      "execution_count": null,
      "outputs": [
        {
          "output_type": "stream",
          "name": "stdout",
          "text": [
            "+------+--------+---------------+------------------------+\n",
            "| likes|dislikes|likes_netos_val|ratio_likes_dislikes_val|\n",
            "+------+--------+---------------+------------------------+\n",
            "| 57527|    2966|        54561.0|      19.395482130815914|\n",
            "| 97185|    6146|        91039.0|      15.812723722746501|\n",
            "|146033|    5339|       140694.0|       27.35212586626709|\n",
            "| 10172|     666|         9506.0|      15.273273273273274|\n",
            "|132235|    1989|       130246.0|       66.48315736551031|\n",
            "|  9763|     511|         9252.0|      19.105675146771038|\n",
            "| 15993|    2445|        13548.0|       6.541104294478528|\n",
            "| 23663|     778|        22885.0|       30.41516709511568|\n",
            "|  3543|     119|         3424.0|       29.77310924369748|\n",
            "| 12654|    1363|        11291.0|       9.283932501834188|\n",
            "|   655|      25|          630.0|                    26.2|\n",
            "|  1576|     303|         1273.0|       5.201320132013201|\n",
            "|114188|    1333|       112855.0|       85.66241560390098|\n",
            "|  7848|    1171|         6677.0|        6.70196413321947|\n",
            "|  7473|     246|         7227.0|      30.378048780487806|\n",
            "|  9419|      52|         9367.0|       181.1346153846154|\n",
            "|  8011|     638|         7373.0|      12.556426332288401|\n",
            "|  5398|      53|         5345.0|      101.84905660377359|\n",
            "| 11963|      36|        11927.0|      332.30555555555554|\n",
            "|  8421|     191|         8230.0|      44.089005235602095|\n",
            "+------+--------+---------------+------------------------+\n",
            "only showing top 20 rows\n",
            "\n"
          ]
        }
      ]
    },
    {
      "cell_type": "code",
      "source": [
        "# Sentencia: .selectExpr()\n",
        "# Permite escribir expresiones sql dentro del select\n",
        "\n",
        "df.selectExpr(\n",
        "    'likes AS likes_val',\n",
        "    'dislikes AS dislikes_val',\n",
        "    'likes - dislikes AS likes_netos_val_expr',\n",
        "    'likes / dislikes AS ratio_likes_dislikes_expr'\n",
        ").show()"
      ],
      "metadata": {
        "colab": {
          "base_uri": "https://localhost:8080/"
        },
        "id": "oMFQV2QTR811",
        "outputId": "ae96f234-bf82-4661-e1b7-9cd3f5a11a94"
      },
      "execution_count": null,
      "outputs": [
        {
          "output_type": "stream",
          "name": "stdout",
          "text": [
            "+---------+------------+--------------------+-------------------------+\n",
            "|likes_val|dislikes_val|likes_netos_val_expr|ratio_likes_dislikes_expr|\n",
            "+---------+------------+--------------------+-------------------------+\n",
            "|    57527|        2966|             54561.0|       19.395482130815914|\n",
            "|    97185|        6146|             91039.0|       15.812723722746501|\n",
            "|   146033|        5339|            140694.0|        27.35212586626709|\n",
            "|    10172|         666|              9506.0|       15.273273273273274|\n",
            "|   132235|        1989|            130246.0|        66.48315736551031|\n",
            "|     9763|         511|              9252.0|       19.105675146771038|\n",
            "|    15993|        2445|             13548.0|        6.541104294478528|\n",
            "|    23663|         778|             22885.0|        30.41516709511568|\n",
            "|     3543|         119|              3424.0|        29.77310924369748|\n",
            "|    12654|        1363|             11291.0|        9.283932501834188|\n",
            "|      655|          25|               630.0|                     26.2|\n",
            "|     1576|         303|              1273.0|        5.201320132013201|\n",
            "|   114188|        1333|            112855.0|        85.66241560390098|\n",
            "|     7848|        1171|              6677.0|         6.70196413321947|\n",
            "|     7473|         246|              7227.0|       30.378048780487806|\n",
            "|     9419|          52|              9367.0|        181.1346153846154|\n",
            "|     8011|         638|              7373.0|       12.556426332288401|\n",
            "|     5398|          53|              5345.0|       101.84905660377359|\n",
            "|    11963|          36|             11927.0|       332.30555555555554|\n",
            "|     8421|         191|              8230.0|       44.089005235602095|\n",
            "+---------+------------+--------------------+-------------------------+\n",
            "only showing top 20 rows\n",
            "\n"
          ]
        }
      ]
    },
    {
      "cell_type": "code",
      "source": [
        "# Sentencia: .selectExpr()\n",
        "# Permite escribir expresiones sql dentro del select\n",
        "\n",
        "df.selectExpr(\n",
        "  'COUNT (DISTINCT video_id) AS videos_unicos_val'\n",
        ").show()"
      ],
      "metadata": {
        "colab": {
          "base_uri": "https://localhost:8080/"
        },
        "id": "kxLfuI0cUETi",
        "outputId": "750bfd2d-1913-4eb2-9c9f-3843389eb74c"
      },
      "execution_count": null,
      "outputs": [
        {
          "output_type": "stream",
          "name": "stdout",
          "text": [
            "+-----------------+\n",
            "|videos_unicos_val|\n",
            "+-----------------+\n",
            "|             6837|\n",
            "+-----------------+\n",
            "\n"
          ]
        }
      ]
    }
  ]
}