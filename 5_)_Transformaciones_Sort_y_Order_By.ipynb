{
  "nbformat": 4,
  "nbformat_minor": 0,
  "metadata": {
    "colab": {
      "provenance": []
    },
    "kernelspec": {
      "name": "python3",
      "display_name": "Python 3"
    },
    "language_info": {
      "name": "python"
    }
  },
  "cells": [
    {
      "cell_type": "code",
      "execution_count": 1,
      "metadata": {
        "id": "fwa37aNem_TL"
      },
      "outputs": [],
      "source": [
        "# Instalar la librería findspark\n",
        "# Va a permitir encontrar spark dentro de nuestra maquina\n",
        "\n",
        "!pip install -q findspark\n",
        "\n",
        "# Instalar pyspark\n",
        "\n",
        "!pip install -q pyspark\n",
        "\n",
        "# Como crear una sesión de spark (SparkSession)\n",
        "\n",
        "import findspark\n",
        "findspark.init() # Es de utilidad para encontrar donde esta la instalacion de spark en mi computadora\n",
        "\n",
        "from pyspark.sql import SparkSession # Importar el sparksession\n",
        "\n",
        "spark = SparkSession.builder.getOrCreate() # Crear la sesion de spark (sparksession)\n",
        "sc = spark.sparkContext # Crear el contexto de spark\n",
        "\n",
        "from pyspark.sql import functions as F # Importar funciones de spark"
      ]
    },
    {
      "cell_type": "code",
      "source": [
        "df = spark.read.parquet('/content/datos.parquet')"
      ],
      "metadata": {
        "id": "Gk_sID7UnK_H"
      },
      "execution_count": 2,
      "outputs": []
    },
    {
      "cell_type": "code",
      "source": [
        "# Tienen la misma sematnica\n",
        "# El orden esta dado en forma ascendente"
      ],
      "metadata": {
        "id": "GRvq2U69nUKW"
      },
      "execution_count": null,
      "outputs": []
    },
    {
      "cell_type": "code",
      "source": [
        "df_dos = df.select(F.col('likes'),\n",
        "          F.col('views'),\n",
        "          F.col('video_id'),\n",
        "          F.col('dislikes')).dropDuplicates(['video_id'])"
      ],
      "metadata": {
        "id": "f-EzsF5ynRBF"
      },
      "execution_count": 6,
      "outputs": []
    },
    {
      "cell_type": "code",
      "source": [
        "# Función Sort\n",
        "# Recibe como argumento la columna que usará para ordenar los registros\n",
        "\n",
        "df_dos.sort('likes').show()"
      ],
      "metadata": {
        "colab": {
          "base_uri": "https://localhost:8080/"
        },
        "id": "GCYjJdcPoHRU",
        "outputId": "910177c2-75b7-4597-e9bd-e9792d52c009"
      },
      "execution_count": 8,
      "outputs": [
        {
          "output_type": "stream",
          "name": "stdout",
          "text": [
            "+-----+-----+--------------------+--------+\n",
            "|likes|views|            video_id|dislikes|\n",
            "+-----+-----+--------------------+--------+\n",
            "| NULL| NULL|\\nFor more videos...|    NULL|\n",
            "| NULL| NULL|\\nFashion Editor:...|    NULL|\n",
            "| NULL| NULL|\\nAccess Hollywoo...|    NULL|\n",
            "| NULL| NULL|\\nStill haven’t s...|    NULL|\n",
            "| NULL| NULL|\\nhttps://www.you...|    NULL|\n",
            "| NULL| NULL|Horror Outro ► ht...|    NULL|\n",
            "| NULL| NULL|\\nChapped lips ar...|    NULL|\n",
            "| NULL| NULL|\\nRoar: https://w...|    NULL|\n",
            "| NULL| NULL|\\nThe leading int...|    NULL|\n",
            "| NULL| NULL|             \\nToday|    NULL|\n",
            "| NULL| NULL|\\nONE STRANGE ROC...|    NULL|\n",
            "| NULL| NULL|\\nSNAPCHAT: fishi...|    NULL|\n",
            "| NULL| NULL|\\nInstagram: http...|    NULL|\n",
            "| NULL| NULL|\\nInstagram.com/w...|    NULL|\n",
            "| NULL| NULL|\\n5050 State Hwy....|    NULL|\n",
            "| NULL| NULL|\\nSIGN UP FOR BRA...|    NULL|\n",
            "| NULL| NULL|\\nJames Ambler an...|    NULL|\n",
            "| NULL| NULL|\\nhttp://www.Mast...|    NULL|\n",
            "| NULL| NULL|\\nEver After Tuto...|    NULL|\n",
            "| NULL| NULL|          \\nEvelin 7|    NULL|\n",
            "+-----+-----+--------------------+--------+\n",
            "only showing top 20 rows\n",
            "\n"
          ]
        }
      ]
    },
    {
      "cell_type": "code",
      "source": [
        "# Función Sort\n",
        "# Ordernar de forma descencendente\n",
        "# Recibe como argumento la columna que usará para ordenar los registros\n",
        "\n",
        "df_dos.sort(F.col('likes').desc()).show()"
      ],
      "metadata": {
        "colab": {
          "base_uri": "https://localhost:8080/"
        },
        "id": "9IKI0oUGph6_",
        "outputId": "5ae4be27-da67-42e1-b41b-c057261e64c0"
      },
      "execution_count": 9,
      "outputs": [
        {
          "output_type": "stream",
          "name": "stdout",
          "text": [
            "+-------+--------+-----------+--------+\n",
            "|  likes|   views|   video_id|dislikes|\n",
            "+-------+--------+-----------+--------+\n",
            "|3880071|39349927|7C2z4GqqS5E|   72707|\n",
            "|2055137|13945717|kTlv5_Bs8aw|   23888|\n",
            "|2050527|10695328|OK3GJ0WIQ8s|   14711|\n",
            "|1956202|10666323|p8npDG2ulKQ|   13966|\n",
            "|1735895|37736281|6ZfuNTqbHE8|   21969|\n",
            "|1634124|33523622|2Vv-BfVoq4g|   21082|\n",
            "|1572997| 7518332|kX0vO4vlJuU|    8113|\n",
            "|1437859| 5884233|D_6QmL6rExk|    6390|\n",
            "|1405355|31648454|VYOjWnS4cMY|   51547|\n",
            "|1401915| 5275672|8O_MwlZ2dEg|    6268|\n",
            "|1386616|15873034|ffxKSjUwKdU|   40714|\n",
            "|1366736|16884972|J2HytHu5VBI|   59930|\n",
            "|1290509| 6416697|2tDKp41nrw8|    4358|\n",
            "|1207457|13754992|_5d-sQ7Fh5M|  280675|\n",
            "|1167488| 8041970|oWjxSkJpxFU|  147643|\n",
            "|1149185|24782158|FlsCjmMhFmw|  483924|\n",
            "|1111592|38873543|i0p1bmr0EmE|   96407|\n",
            "|1065777|14089954|dfnCAmr569k|   47839|\n",
            "| 983693|14820746|tCXGJQYZ9JA|   44254|\n",
            "| 975715|19716689|QwievZ1Tx-8|    9118|\n",
            "+-------+--------+-----------+--------+\n",
            "only showing top 20 rows\n",
            "\n"
          ]
        }
      ]
    },
    {
      "cell_type": "code",
      "source": [
        "# Función Order By\n",
        "# Es lo mismo que sort, solo que mas relacional\n",
        "\n",
        "df_dos.orderBy(F.col('views').desc()).show()"
      ],
      "metadata": {
        "colab": {
          "base_uri": "https://localhost:8080/"
        },
        "id": "4VxyDgQJpuBQ",
        "outputId": "054691db-336f-407f-bdc6-297b74b37303"
      },
      "execution_count": 11,
      "outputs": [
        {
          "output_type": "stream",
          "name": "stdout",
          "text": [
            "+-------+--------+-----------+--------+\n",
            "|  likes|   views|   video_id|dislikes|\n",
            "+-------+--------+-----------+--------+\n",
            "| 609101|48431654|-BQJo3vK8O8|   52259|\n",
            "|3880071|39349927|7C2z4GqqS5E|   72707|\n",
            "|1111592|38873543|i0p1bmr0EmE|   96407|\n",
            "|1735895|37736281|6ZfuNTqbHE8|   21969|\n",
            "|1634124|33523622|2Vv-BfVoq4g|   21082|\n",
            "|1405355|31648454|VYOjWnS4cMY|   51547|\n",
            "| 850362|27973210|u9Mv98Gr5pY|   26541|\n",
            "|1149185|24782158|FlsCjmMhFmw|  483924|\n",
            "| 641546|24421448|U9BwWKXjVaI|   16517|\n",
            "| 587326|23758250|1J76wN0TPI4|   18799|\n",
            "|      0|20921796|BhIEIO0vaBE|       0|\n",
            "| 975715|19716689|QwievZ1Tx-8|    9118|\n",
            "| 511753|18639195|rRr1qiJRsXk|   15606|\n",
            "| 754791|18195959|rRzxEiBLQCA|   65326|\n",
            "| 399200|18184886|vn9mMeWcgoM|   17473|\n",
            "| 787419|17158531|n1WpP7iowLc|   43420|\n",
            "|1366736|16884972|J2HytHu5VBI|   59930|\n",
            "|1386616|15873034|ffxKSjUwKdU|   40714|\n",
            "| 278743|15006579|yDiXQl7grPQ|   13599|\n",
            "| 983693|14820746|tCXGJQYZ9JA|   44254|\n",
            "+-------+--------+-----------+--------+\n",
            "only showing top 20 rows\n",
            "\n"
          ]
        }
      ]
    },
    {
      "cell_type": "code",
      "source": [
        "# Ordenar más de una columna\n",
        "\n",
        "df_dos.orderBy(F.col('likes').desc(),\n",
        "               F.col('views').desc()).show()"
      ],
      "metadata": {
        "colab": {
          "base_uri": "https://localhost:8080/"
        },
        "id": "T_5-H_mRqL44",
        "outputId": "a8354389-a469-4e2a-b057-0b06a9d223b8"
      },
      "execution_count": 12,
      "outputs": [
        {
          "output_type": "stream",
          "name": "stdout",
          "text": [
            "+-------+--------+-----------+--------+\n",
            "|  likes|   views|   video_id|dislikes|\n",
            "+-------+--------+-----------+--------+\n",
            "|3880071|39349927|7C2z4GqqS5E|   72707|\n",
            "|2055137|13945717|kTlv5_Bs8aw|   23888|\n",
            "|2050527|10695328|OK3GJ0WIQ8s|   14711|\n",
            "|1956202|10666323|p8npDG2ulKQ|   13966|\n",
            "|1735895|37736281|6ZfuNTqbHE8|   21969|\n",
            "|1634124|33523622|2Vv-BfVoq4g|   21082|\n",
            "|1572997| 7518332|kX0vO4vlJuU|    8113|\n",
            "|1437859| 5884233|D_6QmL6rExk|    6390|\n",
            "|1405355|31648454|VYOjWnS4cMY|   51547|\n",
            "|1401915| 5275672|8O_MwlZ2dEg|    6268|\n",
            "|1386616|15873034|ffxKSjUwKdU|   40714|\n",
            "|1366736|16884972|J2HytHu5VBI|   59930|\n",
            "|1290509| 6416697|2tDKp41nrw8|    4358|\n",
            "|1207457|13754992|_5d-sQ7Fh5M|  280675|\n",
            "|1167488| 8041970|oWjxSkJpxFU|  147643|\n",
            "|1149185|24782158|FlsCjmMhFmw|  483924|\n",
            "|1111592|38873543|i0p1bmr0EmE|   96407|\n",
            "|1065777|14089954|dfnCAmr569k|   47839|\n",
            "| 983693|14820746|tCXGJQYZ9JA|   44254|\n",
            "| 975715|19716689|QwievZ1Tx-8|    9118|\n",
            "+-------+--------+-----------+--------+\n",
            "only showing top 20 rows\n",
            "\n"
          ]
        }
      ]
    },
    {
      "cell_type": "code",
      "source": [
        "# Función Limit\n",
        "\n",
        "df_dos.orderBy(F.col('likes').desc(),\n",
        "               F.col('views').desc()).limit(10).show()"
      ],
      "metadata": {
        "colab": {
          "base_uri": "https://localhost:8080/"
        },
        "id": "_rbE7d9Vqmbt",
        "outputId": "10f7aa1a-e567-4b52-f56b-36d54f412cc9"
      },
      "execution_count": 13,
      "outputs": [
        {
          "output_type": "stream",
          "name": "stdout",
          "text": [
            "+-------+--------+-----------+--------+\n",
            "|  likes|   views|   video_id|dislikes|\n",
            "+-------+--------+-----------+--------+\n",
            "|3880071|39349927|7C2z4GqqS5E|   72707|\n",
            "|2055137|13945717|kTlv5_Bs8aw|   23888|\n",
            "|2050527|10695328|OK3GJ0WIQ8s|   14711|\n",
            "|1956202|10666323|p8npDG2ulKQ|   13966|\n",
            "|1735895|37736281|6ZfuNTqbHE8|   21969|\n",
            "|1634124|33523622|2Vv-BfVoq4g|   21082|\n",
            "|1572997| 7518332|kX0vO4vlJuU|    8113|\n",
            "|1437859| 5884233|D_6QmL6rExk|    6390|\n",
            "|1405355|31648454|VYOjWnS4cMY|   51547|\n",
            "|1401915| 5275672|8O_MwlZ2dEg|    6268|\n",
            "+-------+--------+-----------+--------+\n",
            "\n"
          ]
        }
      ]
    }
  ]
}