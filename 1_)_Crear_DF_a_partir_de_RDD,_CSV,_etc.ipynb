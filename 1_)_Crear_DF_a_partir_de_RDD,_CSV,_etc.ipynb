{
  "nbformat": 4,
  "nbformat_minor": 0,
  "metadata": {
    "colab": {
      "provenance": []
    },
    "kernelspec": {
      "name": "python3",
      "display_name": "Python 3"
    },
    "language_info": {
      "name": "python"
    }
  },
  "cells": [
    {
      "cell_type": "markdown",
      "source": [
        "**Sesion de Spark**"
      ],
      "metadata": {
        "id": "2a8H900B9HoJ"
      }
    },
    {
      "cell_type": "code",
      "execution_count": null,
      "metadata": {
        "id": "Fiq3qfYD863L"
      },
      "outputs": [],
      "source": [
        "# Instalar la librería findspark\n",
        "# Va a permitir encontrar spark dentro de nuestra maquina\n",
        "\n",
        "!pip install -q findspark\n",
        "\n",
        "# Instalar pyspark\n",
        "\n",
        "!pip install -q pyspark\n",
        "\n",
        "# Como crear una sesión de spark (SparkSession)\n",
        "\n",
        "import findspark\n",
        "findspark.init() # Es de utilidad para encontrar donde esta la instalacion de spark en mi computadora\n",
        "\n",
        "from pyspark.sql import SparkSession # Importar el sparksession\n",
        "\n",
        "spark = SparkSession.builder.getOrCreate() # Crear la sesion de spark (sparksession)\n",
        "sc = spark.sparkContext # Crear el contexto de spark"
      ]
    },
    {
      "cell_type": "markdown",
      "source": [
        "**Crear un DataFrame a partir de un RDD**"
      ],
      "metadata": {
        "id": "PlZ0uBH19P_H"
      }
    },
    {
      "cell_type": "code",
      "source": [
        "# Crear RDD\n",
        "rdd = sc.parallelize([item for item in range(10)]).map(lambda x: (x, x**2))\n",
        "# Función lambada recibe arugmento x y retorna una tupla compuesta por x y x al cuadrado"
      ],
      "metadata": {
        "id": "jFSG6GzW9FEV"
      },
      "execution_count": null,
      "outputs": []
    },
    {
      "cell_type": "code",
      "source": [
        "# rdd.collect()"
      ],
      "metadata": {
        "id": "Y-DCPnvy-IWi"
      },
      "execution_count": null,
      "outputs": []
    },
    {
      "cell_type": "code",
      "source": [
        "# Crear DF a partir de RDD\n",
        "df = rdd.toDF([\"numero\", \"numero_cuadrado\"]) # toDF recibe como parametro una lista de los nombres de las columnas"
      ],
      "metadata": {
        "id": "vGquwSXx-M-Z"
      },
      "execution_count": null,
      "outputs": []
    },
    {
      "cell_type": "code",
      "source": [
        "# Ver esquema del DF que se acaba de crear\n",
        "df.printSchema()"
      ],
      "metadata": {
        "colab": {
          "base_uri": "https://localhost:8080/"
        },
        "id": "x1F9278O-k5n",
        "outputId": "753afcc9-0e47-489a-8b9c-fd4fbb6414ef"
      },
      "execution_count": null,
      "outputs": [
        {
          "output_type": "stream",
          "name": "stdout",
          "text": [
            "root\n",
            " |-- numero: long (nullable = true)\n",
            " |-- numero_cuadrado: long (nullable = true)\n",
            "\n"
          ]
        }
      ]
    },
    {
      "cell_type": "code",
      "source": [
        "# Ver los primeros registros\n",
        "df.show()"
      ],
      "metadata": {
        "colab": {
          "base_uri": "https://localhost:8080/"
        },
        "id": "QBKhMigp-8Qq",
        "outputId": "700a7c86-2da5-450d-a9e1-6d26b99f9685"
      },
      "execution_count": null,
      "outputs": [
        {
          "output_type": "stream",
          "name": "stdout",
          "text": [
            "+------+---------------+\n",
            "|numero|numero_cuadrado|\n",
            "+------+---------------+\n",
            "|     0|              0|\n",
            "|     1|              1|\n",
            "|     2|              4|\n",
            "|     3|              9|\n",
            "|     4|             16|\n",
            "|     5|             25|\n",
            "|     6|             36|\n",
            "|     7|             49|\n",
            "|     8|             64|\n",
            "|     9|             81|\n",
            "+------+---------------+\n",
            "\n"
          ]
        }
      ]
    },
    {
      "cell_type": "markdown",
      "source": [
        "**Crear un DataFrame a partir de un RDD con schema**"
      ],
      "metadata": {
        "id": "_indBkkPAQAu"
      }
    },
    {
      "cell_type": "code",
      "source": [
        "# Crear un DataFrame a partir de un RDD con schema\n",
        "\n",
        "rdd1 = sc.parallelize([(1, 'Jose', 35.5), (2, 'Teresa', 54.3), (3, 'Katia', 12.7)])"
      ],
      "metadata": {
        "id": "con_7aTA_3HG"
      },
      "execution_count": null,
      "outputs": []
    },
    {
      "cell_type": "code",
      "source": [
        "from pyspark.sql.types import StructType, StructField, IntegerType, StringType, DoubleType"
      ],
      "metadata": {
        "id": "ueZY9TgE_5tz"
      },
      "execution_count": null,
      "outputs": []
    },
    {
      "cell_type": "code",
      "source": [
        "# Crear squema\n",
        "# Primera vía\n",
        "\n",
        "esquema1 = StructType(\n",
        "    [\n",
        "     StructField('id', IntegerType(), True),\n",
        "     StructField('nombre', StringType(), True),\n",
        "     StructField('saldo', DoubleType(), True)\n",
        "    ]\n",
        ")"
      ],
      "metadata": {
        "id": "veqMPpAK_-IT"
      },
      "execution_count": null,
      "outputs": []
    },
    {
      "cell_type": "code",
      "source": [
        "# Crear squema\n",
        "# Segunda vía\n",
        "\n",
        "esquema2 = \"`id` INT, `nombre` STRING, `saldo` DOUBLE\""
      ],
      "metadata": {
        "id": "pC-XU2AiAEuH"
      },
      "execution_count": null,
      "outputs": []
    },
    {
      "cell_type": "code",
      "source": [
        "df1 = spark.createDataFrame(rdd1, schema=esquema1)"
      ],
      "metadata": {
        "id": "mV-uNJvgAHKj"
      },
      "execution_count": null,
      "outputs": []
    },
    {
      "cell_type": "code",
      "source": [
        "df1.printSchema()"
      ],
      "metadata": {
        "colab": {
          "base_uri": "https://localhost:8080/"
        },
        "id": "yGpBcM1vAKD_",
        "outputId": "7bd7df33-eeb5-4afc-cf3d-9b4cb57e8765"
      },
      "execution_count": null,
      "outputs": [
        {
          "output_type": "stream",
          "name": "stdout",
          "text": [
            "root\n",
            " |-- id: integer (nullable = true)\n",
            " |-- nombre: string (nullable = true)\n",
            " |-- saldo: double (nullable = true)\n",
            "\n"
          ]
        }
      ]
    },
    {
      "cell_type": "code",
      "source": [
        "df1.show()"
      ],
      "metadata": {
        "colab": {
          "base_uri": "https://localhost:8080/"
        },
        "id": "0Z3eo9mKAYvX",
        "outputId": "414124e7-353e-47f8-bb40-24619edbd6ad"
      },
      "execution_count": null,
      "outputs": [
        {
          "output_type": "stream",
          "name": "stdout",
          "text": [
            "+---+------+-----+\n",
            "| id|nombre|saldo|\n",
            "+---+------+-----+\n",
            "|  1|  Jose| 35.5|\n",
            "|  2|Teresa| 54.3|\n",
            "|  3| Katia| 12.7|\n",
            "+---+------+-----+\n",
            "\n"
          ]
        }
      ]
    },
    {
      "cell_type": "markdown",
      "source": [
        "**Crear DFs a partir de Fuentes de Datos**"
      ],
      "metadata": {
        "id": "kpYeuID9AikN"
      }
    },
    {
      "cell_type": "code",
      "source": [
        "# Clases principales para leer y escribir datos son:\n",
        "# |-- DataFrameReader\n",
        "# |---- Instancia: spark.read().format().option().schema().load() (Instancias principales a la hora de leer datos: format, option, schema)\n",
        "# |-- DataFrameWriter"
      ],
      "metadata": {
        "id": "X_xXexDOAn3z"
      },
      "execution_count": null,
      "outputs": []
    },
    {
      "cell_type": "markdown",
      "source": [
        "**Crear DF a partir de Archivo de Texto**"
      ],
      "metadata": {
        "id": "bfkHntxqCli-"
      }
    },
    {
      "cell_type": "code",
      "source": [
        "df = spark.read.text('/content/data/dataTXT.txt')"
      ],
      "metadata": {
        "id": "EwNB13E3B4MM"
      },
      "execution_count": null,
      "outputs": []
    },
    {
      "cell_type": "code",
      "source": [
        "df.show()"
      ],
      "metadata": {
        "colab": {
          "base_uri": "https://localhost:8080/"
        },
        "id": "6OFpnEoXDOtD",
        "outputId": "c8facc35-f5c7-4b3a-e0c6-e8e48a3a734e"
      },
      "execution_count": null,
      "outputs": [
        {
          "output_type": "stream",
          "name": "stdout",
          "text": [
            "+--------------------+\n",
            "|               value|\n",
            "+--------------------+\n",
            "|Estamos en el cur...|\n",
            "|En este capítulo ...|\n",
            "|En esta sección e...|\n",
            "|y en este ejemplo...|\n",
            "+--------------------+\n",
            "\n"
          ]
        }
      ]
    },
    {
      "cell_type": "markdown",
      "source": [
        "**Crear DF mediante la lectura de un CSV**"
      ],
      "metadata": {
        "id": "lXLYMVqCDWl8"
      }
    },
    {
      "cell_type": "code",
      "source": [
        "# df_csv = spark.read.csv('/content/data/dataCSV.csv', header= True) # Mi forma\n",
        "df_csv = spark.read.option('header', 'true').csv('/content/data/dataCSV.csv') # La recomendada"
      ],
      "metadata": {
        "id": "khprg7WcDdPj"
      },
      "execution_count": null,
      "outputs": []
    },
    {
      "cell_type": "code",
      "source": [
        "df_csv.show()"
      ],
      "metadata": {
        "colab": {
          "base_uri": "https://localhost:8080/"
        },
        "id": "CQoOzWjXDm1w",
        "outputId": "dfb2bf09-d886-47bd-a4cc-a3e314ffcbae"
      },
      "execution_count": null,
      "outputs": [
        {
          "output_type": "stream",
          "name": "stdout",
          "text": [
            "+-----------+-------------+--------------------+--------------------+-----------+--------------------+--------------------+-------+------+--------+-------------+--------------------+-----------------+----------------+----------------------+--------------------+\n",
            "|   video_id|trending_date|               title|       channel_title|category_id|        publish_time|                tags|  views| likes|dislikes|comment_count|      thumbnail_link|comments_disabled|ratings_disabled|video_error_or_removed|         description|\n",
            "+-----------+-------------+--------------------+--------------------+-----------+--------------------+--------------------+-------+------+--------+-------------+--------------------+-----------------+----------------+----------------------+--------------------+\n",
            "|2kyS6SvSYSE|     17.14.11|WE WANT TO TALK A...|        CaseyNeistat|         22|2017-11-13T17:13:...|     SHANtell martin| 748374| 57527|    2966|        15954|https://i.ytimg.c...|            False|           False|                 False|SHANTELL'S CHANNE...|\n",
            "|1ZAPwfrtAFY|     17.14.11|The Trump Preside...|     LastWeekTonight|         24|2017-11-13T07:30:...|\"last week tonigh...|2418783| 97185|    6146|        12703|https://i.ytimg.c...|            False|           False|                 False|One year after th...|\n",
            "|5qpjK5DgCt4|     17.14.11|Racist Superman |...|        Rudy Mancuso|         23|2017-11-12T19:05:...|\"racist superman\"...|3191434|146033|    5339|         8181|https://i.ytimg.c...|            False|           False|                 False|WATCH MY PREVIOUS...|\n",
            "|puqaWrEC7tY|     17.14.11|Nickelback Lyrics...|Good Mythical Mor...|         24|2017-11-13T11:00:...|\"rhett and link\"|...| 343168| 10172|     666|         2146|https://i.ytimg.c...|            False|           False|                 False|Today we find out...|\n",
            "|d380meD0W0M|     17.14.11|I Dare You: GOING...|            nigahiga|         24|2017-11-12T18:01:...|\"ryan\"|\"higa\"|\"hi...|2095731|132235|    1989|        17518|https://i.ytimg.c...|            False|           False|                 False|I know it's been ...|\n",
            "|gHZ1Qz0KiKM|     17.14.11|2 Weeks with iPho...|            iJustine|         28|2017-11-13T19:07:...|\"ijustine\"|\"week ...| 119180|  9763|     511|         1434|https://i.ytimg.c...|            False|           False|                 False|Using the iPhone ...|\n",
            "|39idVpFF7NQ|     17.14.11|Roy Moore & Jeff ...| Saturday Night Live|         24|2017-11-12T05:37:...|\"SNL\"|\"Saturday N...|2103417| 15993|    2445|         1970|https://i.ytimg.c...|            False|           False|                 False|Embattled Alabama...|\n",
            "|nc99ccSXST0|     17.14.11|5 Ice Cream Gadge...|  CrazyRussianHacker|         28|2017-11-12T21:50:...|\"5 Ice Cream Gadg...| 817732| 23663|     778|         3432|https://i.ytimg.c...|            False|           False|                 False|Ice Cream Pint Co...|\n",
            "|jr9QtXwC9vc|     17.14.11|The Greatest Show...|    20th Century Fox|          1|2017-11-13T14:00:...|\"Trailer\"|\"Hugh J...| 826059|  3543|     119|          340|https://i.ytimg.c...|            False|           False|                 False|Inspired by the i...|\n",
            "|TUmyygCMMGA|     17.14.11|Why the rise of t...|                 Vox|         25|2017-11-13T13:45:...|\"vox.com\"|\"vox\"|\"...| 256426| 12654|    1363|         2368|https://i.ytimg.c...|            False|           False|                 False|For now, at least...|\n",
            "|9wRQljFNDW8|     17.14.11|Dion Lewis' 103-Y...|                 NFL|         17|2017-11-13T02:05:...|\"NFL\"|\"Football\"|...|  81377|   655|      25|          177|https://i.ytimg.c...|            False|           False|                 False|New England Patri...|\n",
            "|VifQlJit6A0|     17.14.11|(SPOILERS) 'Shiva...|                 amc|         24|2017-11-13T03:00:...|\"The Walking Dead...| 104578|  1576|     303|         1279|https://i.ytimg.c...|            False|           False|                 False|Shiva arrives jus...|\n",
            "|5E4ZBSInqUU|     17.14.11|Marshmello - Bloc...|          marshmello|         10|2017-11-13T17:00:...|\"marshmello\"|\"blo...| 687582|114188|    1333|         8371|https://i.ytimg.c...|            False|           False|                 False|WATCH SILENCE MUS...|\n",
            "|GgVmn66oK_A|     17.14.11|Which Countries A...|       NowThis World|         25|2017-11-12T14:00:...|\"nowthis\"|\"nowthi...| 544770|  7848|    1171|         3981|https://i.ytimg.c...|            False|           False|                 False|The world at larg...|\n",
            "|TaTleo4cOs8|     17.14.11|SHOPPING FOR NEW ...|     The king of DIY|         15|2017-11-12T18:30:...|\"shopping for new...| 207532|  7473|     246|         2120|https://i.ytimg.c...|            False|           False|                 False|Today we go shopp...|\n",
            "|kgaO45SyaO4|     17.14.11|    The New SpotMini|      BostonDynamics|         28|2017-11-13T20:09:...|\"Robots\"|\"Boston ...|  75752|  9419|      52|         1230|https://i.ytimg.c...|            False|           False|                 False|For more informat...|\n",
            "|ZAQs-ctOqXQ|     17.14.11|One Change That W...|             Cracked|         23|2017-11-12T17:00:...|\"pacific rim\"|\"pa...| 295639|  8011|     638|         1256|https://i.ytimg.c...|            False|           False|                 False|Pacific Rim was s...|\n",
            "|YVfyYrEmzgM|     17.14.11|How does your bod...|              TED-Ed|         27|2017-11-13T16:00:...|\"TED\"|\"TED-Ed\"|\"T...|  78044|  5398|      53|          385|https://i.ytimg.c...|            False|           False|                 False|Check out our Pat...|\n",
            "|eNSN6qet1kE|     17.14.11|HomeMade Electric...|         PeterSripol|         28|2017-11-13T15:30:...|\"ultralight\"|\"air...|  97007| 11963|      36|         2211|https://i.ytimg.c...|            False|           False|                 False|aaaannnd now to f...|\n",
            "|B5HORANmzHw|     17.14.11|Founding An Inbre...|             SciShow|         27|2017-11-12T22:00:...|\"SciShow\"|\"scienc...| 223871|  8421|     191|         1214|https://i.ytimg.c...|            False|           False|                 False|Thanks to 23AndMe...|\n",
            "+-----------+-------------+--------------------+--------------------+-----------+--------------------+--------------------+-------+------+--------+-------------+--------------------+-----------------+----------------+----------------------+--------------------+\n",
            "only showing top 20 rows\n",
            "\n"
          ]
        }
      ]
    },
    {
      "cell_type": "markdown",
      "source": [
        "**Crear DF con un Delimitador**"
      ],
      "metadata": {
        "id": "AVbkkIOdEXXO"
      }
    },
    {
      "cell_type": "code",
      "source": [
        "df2 = spark.read.option('header', 'true').option('delimiter', '|').csv('/content/data/dataTab.txt') # Se puden agregar varias instanacias de option"
      ],
      "metadata": {
        "id": "X589nhzsEb4H"
      },
      "execution_count": null,
      "outputs": []
    },
    {
      "cell_type": "code",
      "source": [
        "df2.show()"
      ],
      "metadata": {
        "colab": {
          "base_uri": "https://localhost:8080/"
        },
        "id": "NfKHawLyE4AI",
        "outputId": "1e349bd1-889f-45ff-a164-fdf4a8db7d83"
      },
      "execution_count": null,
      "outputs": [
        {
          "output_type": "stream",
          "name": "stdout",
          "text": [
            "+----+----+----------+-----+\n",
            "|pais|edad|     fecha|color|\n",
            "+----+----+----------+-----+\n",
            "|  MX|  23|2021-02-21| rojo|\n",
            "|  CA|  56|2021-06-10| azul|\n",
            "|  US|  32|2020-06-02|verde|\n",
            "+----+----+----------+-----+\n",
            "\n"
          ]
        }
      ]
    }
  ]
}