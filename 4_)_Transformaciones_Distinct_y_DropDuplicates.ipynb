{
  "nbformat": 4,
  "nbformat_minor": 0,
  "metadata": {
    "colab": {
      "provenance": []
    },
    "kernelspec": {
      "name": "python3",
      "display_name": "Python 3"
    },
    "language_info": {
      "name": "python"
    }
  },
  "cells": [
    {
      "cell_type": "code",
      "execution_count": 1,
      "metadata": {
        "id": "n0MvvqXO1Z2m"
      },
      "outputs": [],
      "source": [
        "# Instalar la librería findspark\n",
        "# Va a permitir encontrar spark dentro de nuestra maquina\n",
        "\n",
        "!pip install -q findspark\n",
        "\n",
        "# Instalar pyspark\n",
        "\n",
        "!pip install -q pyspark\n",
        "\n",
        "# Como crear una sesión de spark (SparkSession)\n",
        "\n",
        "import findspark\n",
        "findspark.init() # Es de utilidad para encontrar donde esta la instalacion de spark en mi computadora\n",
        "\n",
        "from pyspark.sql import SparkSession # Importar el sparksession\n",
        "\n",
        "spark = SparkSession.builder.getOrCreate() # Crear la sesion de spark (sparksession)\n",
        "sc = spark.sparkContext # Crear el contexto de spark\n",
        "\n",
        "from pyspark.sql import functions as F # Importar funciones de spark"
      ]
    },
    {
      "cell_type": "code",
      "source": [
        "df = spark.read.parquet('/content/datos.parquet')"
      ],
      "metadata": {
        "id": "221AEH5j1hAS"
      },
      "execution_count": 3,
      "outputs": []
    },
    {
      "cell_type": "code",
      "source": [
        "# Funcion Count\n",
        "df.count()\n",
        "\n",
        "# El df tiene 48,137 tuplas"
      ],
      "metadata": {
        "colab": {
          "base_uri": "https://localhost:8080/"
        },
        "id": "AKGQX16R12qe",
        "outputId": "847b3ea2-ee73-4a66-91ac-ac49db540302"
      },
      "execution_count": 6,
      "outputs": [
        {
          "output_type": "execute_result",
          "data": {
            "text/plain": [
              "48137"
            ]
          },
          "metadata": {},
          "execution_count": 6
        }
      ]
    },
    {
      "cell_type": "code",
      "source": [
        "# Funcion Distinct\n",
        "\n",
        "df.distinct().count()\n",
        "\n",
        "# Pero el df solo tiene 41,428 tuplas , i.e hay 9 tuplas duplicadas"
      ],
      "metadata": {
        "colab": {
          "base_uri": "https://localhost:8080/"
        },
        "id": "bcg4JCrm1ru_",
        "outputId": "aee2864b-8547-4cec-9321-e2dc603e466f"
      },
      "execution_count": 7,
      "outputs": [
        {
          "output_type": "execute_result",
          "data": {
            "text/plain": [
              "41428"
            ]
          },
          "metadata": {},
          "execution_count": 7
        }
      ]
    },
    {
      "cell_type": "code",
      "source": [
        "# Funcion dropDuplicates\n",
        "# Es analogo a la función distinct\n",
        "# Puedo darle una lista de atributos sobre la que quiero operar, o ninguno para que se ejecute sobre todo el dataframe\n",
        "\n",
        "df.dropDuplicates().count()\n",
        "\n",
        "# Pero el df solo tiene 41,428 tuplas , i.e hay 9 tuplas duplicadas"
      ],
      "metadata": {
        "colab": {
          "base_uri": "https://localhost:8080/"
        },
        "id": "jad-TY1m2Zh2",
        "outputId": "6081a4cc-4701-4081-b879-56518285261d"
      },
      "execution_count": 8,
      "outputs": [
        {
          "output_type": "execute_result",
          "data": {
            "text/plain": [
              "41428"
            ]
          },
          "metadata": {},
          "execution_count": 8
        }
      ]
    },
    {
      "cell_type": "code",
      "source": [
        "# Funcion dropDuplicates\n",
        "# Puedo darle una lista de atributos sobre la que quiero operar, o ninguno para que se ejecute sobre todo el dataframe\n",
        "# Para operar sobre columnas especificas debo ingresar corchetes aunque la lista solo sea de un atributo\n",
        "df.dropDuplicates(['video_id']).count()\n",
        "\n",
        "# Encontro 6,837 codigos de video unicos\n"
      ],
      "metadata": {
        "colab": {
          "base_uri": "https://localhost:8080/"
        },
        "id": "o1fJzXcY2vnF",
        "outputId": "885fe2c6-de14-4d81-bfcf-578b6301a565"
      },
      "execution_count": 11,
      "outputs": [
        {
          "output_type": "execute_result",
          "data": {
            "text/plain": [
              "6837"
            ]
          },
          "metadata": {},
          "execution_count": 11
        }
      ]
    }
  ]
}