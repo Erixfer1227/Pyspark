{
  "nbformat": 4,
  "nbformat_minor": 0,
  "metadata": {
    "colab": {
      "provenance": []
    },
    "kernelspec": {
      "name": "python3",
      "display_name": "Python 3"
    },
    "language_info": {
      "name": "python"
    }
  },
  "cells": [
    {
      "cell_type": "code",
      "execution_count": 1,
      "metadata": {
        "id": "fhkziwKfvcEl"
      },
      "outputs": [],
      "source": [
        "# Instalar la librería findspark\n",
        "# Va a permitir encontrar spark dentro de nuestra maquina\n",
        "\n",
        "!pip install -q findspark\n",
        "\n",
        "# Instalar pyspark\n",
        "\n",
        "!pip install -q pyspark\n",
        "\n",
        "# Como crear una sesión de spark (SparkSession)\n",
        "\n",
        "import findspark\n",
        "findspark.init() # Es de utilidad para encontrar donde esta la instalacion de spark en mi computadora\n",
        "\n",
        "from pyspark.sql import SparkSession # Importar el sparksession\n",
        "\n",
        "spark = SparkSession.builder.getOrCreate() # Crear la sesion de spark (sparksession)\n",
        "sc = spark.sparkContext # Crear el contexto de spark\n",
        "\n",
        "from pyspark.sql import functions as F # Importar funciones de spark"
      ]
    },
    {
      "cell_type": "code",
      "source": [
        "df = spark.read.parquet('/content/datos.parquet')"
      ],
      "metadata": {
        "id": "7TN_a_fLvxFG"
      },
      "execution_count": 3,
      "outputs": []
    },
    {
      "cell_type": "code",
      "source": [
        "# Función withColumn\n",
        "# Requiere dos parametros de entrada\n",
        "  # Nombre de Columna\n",
        "  # Un valor en forma de expresión de columna\n",
        "\n",
        "df_dos = df.withColumn('valoracion_val',\n",
        "                       F.col('likes') - F.col('dislikes')).show()"
      ],
      "metadata": {
        "colab": {
          "base_uri": "https://localhost:8080/"
        },
        "id": "Zvl5PKoBv7VN",
        "outputId": "8aa54a45-5a03-4a5b-878a-b2a341c5348b"
      },
      "execution_count": 4,
      "outputs": [
        {
          "output_type": "stream",
          "name": "stdout",
          "text": [
            "+-----------+-------------+--------------------+--------------------+-----------+-------------------+--------------------+-------+------+--------+-------------+--------------------+-----------------+----------------+----------------------+--------------------+--------------+\n",
            "|   video_id|trending_date|               title|       channel_title|category_id|       publish_time|                tags|  views| likes|dislikes|comment_count|      thumbnail_link|comments_disabled|ratings_disabled|video_error_or_removed|         description|valoracion_val|\n",
            "+-----------+-------------+--------------------+--------------------+-----------+-------------------+--------------------+-------+------+--------+-------------+--------------------+-----------------+----------------+----------------------+--------------------+--------------+\n",
            "|2kyS6SvSYSE|     17.14.11|WE WANT TO TALK A...|        CaseyNeistat|         22|2017-11-13 17:13:01|     SHANtell martin| 748374| 57527|    2966|        15954|https://i.ytimg.c...|            False|           False|                 False|SHANTELL'S CHANNE...|         54561|\n",
            "|1ZAPwfrtAFY|     17.14.11|The Trump Preside...|     LastWeekTonight|         24|2017-11-13 07:30:00|\"last week tonigh...|2418783| 97185|    6146|        12703|https://i.ytimg.c...|            False|           False|                 False|One year after th...|         91039|\n",
            "|5qpjK5DgCt4|     17.14.11|Racist Superman |...|        Rudy Mancuso|         23|2017-11-12 19:05:24|\"racist superman\"...|3191434|146033|    5339|         8181|https://i.ytimg.c...|            False|           False|                 False|WATCH MY PREVIOUS...|        140694|\n",
            "|puqaWrEC7tY|     17.14.11|Nickelback Lyrics...|Good Mythical Mor...|         24|2017-11-13 11:00:04|\"rhett and link\"|...| 343168| 10172|     666|         2146|https://i.ytimg.c...|            False|           False|                 False|Today we find out...|          9506|\n",
            "|d380meD0W0M|     17.14.11|I Dare You: GOING...|            nigahiga|         24|2017-11-12 18:01:41|\"ryan\"|\"higa\"|\"hi...|2095731|132235|    1989|        17518|https://i.ytimg.c...|            False|           False|                 False|I know it's been ...|        130246|\n",
            "|gHZ1Qz0KiKM|     17.14.11|2 Weeks with iPho...|            iJustine|         28|2017-11-13 19:07:23|\"ijustine\"|\"week ...| 119180|  9763|     511|         1434|https://i.ytimg.c...|            False|           False|                 False|Using the iPhone ...|          9252|\n",
            "|39idVpFF7NQ|     17.14.11|Roy Moore & Jeff ...| Saturday Night Live|         24|2017-11-12 05:37:17|\"SNL\"|\"Saturday N...|2103417| 15993|    2445|         1970|https://i.ytimg.c...|            False|           False|                 False|Embattled Alabama...|         13548|\n",
            "|nc99ccSXST0|     17.14.11|5 Ice Cream Gadge...|  CrazyRussianHacker|         28|2017-11-12 21:50:37|\"5 Ice Cream Gadg...| 817732| 23663|     778|         3432|https://i.ytimg.c...|            False|           False|                 False|Ice Cream Pint Co...|         22885|\n",
            "|jr9QtXwC9vc|     17.14.11|The Greatest Show...|    20th Century Fox|          1|2017-11-13 14:00:23|\"Trailer\"|\"Hugh J...| 826059|  3543|     119|          340|https://i.ytimg.c...|            False|           False|                 False|Inspired by the i...|          3424|\n",
            "|TUmyygCMMGA|     17.14.11|Why the rise of t...|                 Vox|         25|2017-11-13 13:45:16|\"vox.com\"|\"vox\"|\"...| 256426| 12654|    1363|         2368|https://i.ytimg.c...|            False|           False|                 False|For now, at least...|         11291|\n",
            "|9wRQljFNDW8|     17.14.11|Dion Lewis' 103-Y...|                 NFL|         17|2017-11-13 02:05:26|\"NFL\"|\"Football\"|...|  81377|   655|      25|          177|https://i.ytimg.c...|            False|           False|                 False|New England Patri...|           630|\n",
            "|VifQlJit6A0|     17.14.11|(SPOILERS) 'Shiva...|                 amc|         24|2017-11-13 03:00:00|\"The Walking Dead...| 104578|  1576|     303|         1279|https://i.ytimg.c...|            False|           False|                 False|Shiva arrives jus...|          1273|\n",
            "|5E4ZBSInqUU|     17.14.11|Marshmello - Bloc...|          marshmello|         10|2017-11-13 17:00:00|\"marshmello\"|\"blo...| 687582|114188|    1333|         8371|https://i.ytimg.c...|            False|           False|                 False|WATCH SILENCE MUS...|        112855|\n",
            "|GgVmn66oK_A|     17.14.11|Which Countries A...|       NowThis World|         25|2017-11-12 14:00:00|\"nowthis\"|\"nowthi...| 544770|  7848|    1171|         3981|https://i.ytimg.c...|            False|           False|                 False|The world at larg...|          6677|\n",
            "|TaTleo4cOs8|     17.14.11|SHOPPING FOR NEW ...|     The king of DIY|         15|2017-11-12 18:30:01|\"shopping for new...| 207532|  7473|     246|         2120|https://i.ytimg.c...|            False|           False|                 False|Today we go shopp...|          7227|\n",
            "|kgaO45SyaO4|     17.14.11|    The New SpotMini|      BostonDynamics|         28|2017-11-13 20:09:58|\"Robots\"|\"Boston ...|  75752|  9419|      52|         1230|https://i.ytimg.c...|            False|           False|                 False|For more informat...|          9367|\n",
            "|ZAQs-ctOqXQ|     17.14.11|One Change That W...|             Cracked|         23|2017-11-12 17:00:05|\"pacific rim\"|\"pa...| 295639|  8011|     638|         1256|https://i.ytimg.c...|            False|           False|                 False|Pacific Rim was s...|          7373|\n",
            "|YVfyYrEmzgM|     17.14.11|How does your bod...|              TED-Ed|         27|2017-11-13 16:00:07|\"TED\"|\"TED-Ed\"|\"T...|  78044|  5398|      53|          385|https://i.ytimg.c...|            False|           False|                 False|Check out our Pat...|          5345|\n",
            "|eNSN6qet1kE|     17.14.11|HomeMade Electric...|         PeterSripol|         28|2017-11-13 15:30:17|\"ultralight\"|\"air...|  97007| 11963|      36|         2211|https://i.ytimg.c...|            False|           False|                 False|aaaannnd now to f...|         11927|\n",
            "|B5HORANmzHw|     17.14.11|Founding An Inbre...|             SciShow|         27|2017-11-12 22:00:01|\"SciShow\"|\"scienc...| 223871|  8421|     191|         1214|https://i.ytimg.c...|            False|           False|                 False|Thanks to 23AndMe...|          8230|\n",
            "+-----------+-------------+--------------------+--------------------+-----------+-------------------+--------------------+-------+------+--------+-------------+--------------------+-----------------+----------------+----------------------+--------------------+--------------+\n",
            "only showing top 20 rows\n",
            "\n"
          ]
        }
      ]
    },
    {
      "cell_type": "code",
      "source": [
        "# Función withColumn\n",
        "# Requiere dos parametros de entrada\n",
        "  # Nombre de Columna\n",
        "  # Un valor en forma de expresión de columna\n",
        "\n",
        "df_dos = (df.withColumn('valoracion_val', F.col('likes') - F.col('dislikes'))\n",
        "            .withColumn('ratio_likes_dislikes', F.col('likes') / F.col('dislikes'))\n",
        "            .withColumn('dislikes_likes_val', F.col('dislikes') / F.col('likes')))"
      ],
      "metadata": {
        "id": "QeuRrHHVwgcC"
      },
      "execution_count": 10,
      "outputs": []
    },
    {
      "cell_type": "code",
      "source": [
        "df_dos.select(F.col('valoracion_val'),\n",
        "              F.col('ratio_likes_dislikes'),\n",
        "              F.col('dislikes_likes_val')).show()"
      ],
      "metadata": {
        "colab": {
          "base_uri": "https://localhost:8080/"
        },
        "id": "1i8RlW0_yM4C",
        "outputId": "c5ef03f8-0530-4be2-dbab-f8dc239d1b65"
      },
      "execution_count": 11,
      "outputs": [
        {
          "output_type": "stream",
          "name": "stdout",
          "text": [
            "+--------------+--------------------+--------------------+\n",
            "|valoracion_val|ratio_likes_dislikes|  dislikes_likes_val|\n",
            "+--------------+--------------------+--------------------+\n",
            "|         54561|  19.395482130815914|0.051558398664974706|\n",
            "|         91039|  15.812723722746501| 0.06324021196686731|\n",
            "|        140694|   27.35212586626709| 0.03656022953715941|\n",
            "|          9506|  15.273273273273274| 0.06547384978372002|\n",
            "|        130246|   66.48315736551031|0.015041403561840663|\n",
            "|          9252|  19.105675146771038| 0.05234046911809895|\n",
            "|         13548|   6.541104294478528| 0.15287938473081975|\n",
            "|         22885|   30.41516709511568|0.032878333262899885|\n",
            "|          3424|   29.77310924369748|0.033587355348574655|\n",
            "|         11291|   9.283932501834188| 0.10771297613402876|\n",
            "|           630|                26.2| 0.03816793893129771|\n",
            "|          1273|   5.201320132013201| 0.19225888324873097|\n",
            "|        112855|   85.66241560390098|0.011673731040039234|\n",
            "|          6677|    6.70196413321947| 0.14920998980632008|\n",
            "|          7227|  30.378048780487806| 0.03291850662384584|\n",
            "|          9367|   181.1346153846154|0.005520755918887...|\n",
            "|          7373|  12.556426332288401| 0.07964049432030958|\n",
            "|          5345|  101.84905660377359|0.009818451278251204|\n",
            "|         11927|  332.30555555555554|0.003009278609044554|\n",
            "|          8230|  44.089005235602095| 0.02268139175869849|\n",
            "+--------------+--------------------+--------------------+\n",
            "only showing top 20 rows\n",
            "\n"
          ]
        }
      ]
    },
    {
      "cell_type": "code",
      "source": [
        "# Función withColumnRenamed\n",
        "# La idea es cambiar el nombre de las columnas\n",
        "# Recibe dos argumentos, el nombre actual de la columna y el nuevo nombre\n",
        "df_renombrado = df_dos.withColumnRenamed('video_id', 'video_youtube_id')"
      ],
      "metadata": {
        "id": "Kf1CkcDzy8NR"
      },
      "execution_count": 12,
      "outputs": []
    },
    {
      "cell_type": "code",
      "source": [
        "df_renombrado.printSchema()"
      ],
      "metadata": {
        "colab": {
          "base_uri": "https://localhost:8080/"
        },
        "id": "2cNJWXozzewo",
        "outputId": "6c77d4fc-334f-4de9-e6a4-c36ae2b8d8e8"
      },
      "execution_count": 13,
      "outputs": [
        {
          "output_type": "stream",
          "name": "stdout",
          "text": [
            "root\n",
            " |-- video_youtube_id: string (nullable = true)\n",
            " |-- trending_date: string (nullable = true)\n",
            " |-- title: string (nullable = true)\n",
            " |-- channel_title: string (nullable = true)\n",
            " |-- category_id: string (nullable = true)\n",
            " |-- publish_time: timestamp (nullable = true)\n",
            " |-- tags: string (nullable = true)\n",
            " |-- views: integer (nullable = true)\n",
            " |-- likes: integer (nullable = true)\n",
            " |-- dislikes: integer (nullable = true)\n",
            " |-- comment_count: integer (nullable = true)\n",
            " |-- thumbnail_link: string (nullable = true)\n",
            " |-- comments_disabled: string (nullable = true)\n",
            " |-- ratings_disabled: string (nullable = true)\n",
            " |-- video_error_or_removed: string (nullable = true)\n",
            " |-- description: string (nullable = true)\n",
            " |-- valoracion_val: integer (nullable = true)\n",
            " |-- ratio_likes_dislikes: double (nullable = true)\n",
            " |-- dislikes_likes_val: double (nullable = true)\n",
            "\n"
          ]
        }
      ]
    }
  ]
}