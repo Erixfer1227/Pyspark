{
  "nbformat": 4,
  "nbformat_minor": 0,
  "metadata": {
    "colab": {
      "provenance": []
    },
    "kernelspec": {
      "name": "python3",
      "display_name": "Python 3"
    },
    "language_info": {
      "name": "python"
    }
  },
  "cells": [
    {
      "cell_type": "code",
      "execution_count": 1,
      "metadata": {
        "id": "fQJ3aRFf2Wu0"
      },
      "outputs": [],
      "source": [
        "# Instalar la librería findspark\n",
        "# Va a permitir encontrar spark dentro de nuestra maquina\n",
        "\n",
        "!pip install -q findspark\n",
        "\n",
        "# Instalar pyspark\n",
        "\n",
        "!pip install -q pyspark\n",
        "\n",
        "# Como crear una sesión de spark (SparkSession)\n",
        "\n",
        "import findspark\n",
        "findspark.init() # Es de utilidad para encontrar donde esta la instalacion de spark en mi computadora\n",
        "\n",
        "from pyspark.sql import SparkSession # Importar el sparksession\n",
        "\n",
        "spark = SparkSession.builder.getOrCreate() # Crear la sesion de spark (sparksession)\n",
        "sc = spark.sparkContext # Crear el contexto de spark\n",
        "\n",
        "from pyspark.sql import functions as F # Importar funciones de spark"
      ]
    },
    {
      "cell_type": "code",
      "source": [
        "df = spark.read.parquet('/content/datos.parquet')"
      ],
      "metadata": {
        "id": "dvXDUzZ92d-R"
      },
      "execution_count": 3,
      "outputs": []
    },
    {
      "cell_type": "code",
      "source": [
        "# Función drop\n",
        "# Recibe como argumento las columnas que se van a eliminar del df\n",
        "\n",
        "df.printSchema()"
      ],
      "metadata": {
        "colab": {
          "base_uri": "https://localhost:8080/"
        },
        "id": "o8mIuFZ_2iLd",
        "outputId": "39e167d1-5213-4e3e-c42f-f68de212fe21"
      },
      "execution_count": 4,
      "outputs": [
        {
          "output_type": "stream",
          "name": "stdout",
          "text": [
            "root\n",
            " |-- video_id: string (nullable = true)\n",
            " |-- trending_date: string (nullable = true)\n",
            " |-- title: string (nullable = true)\n",
            " |-- channel_title: string (nullable = true)\n",
            " |-- category_id: string (nullable = true)\n",
            " |-- publish_time: timestamp (nullable = true)\n",
            " |-- tags: string (nullable = true)\n",
            " |-- views: integer (nullable = true)\n",
            " |-- likes: integer (nullable = true)\n",
            " |-- dislikes: integer (nullable = true)\n",
            " |-- comment_count: integer (nullable = true)\n",
            " |-- thumbnail_link: string (nullable = true)\n",
            " |-- comments_disabled: string (nullable = true)\n",
            " |-- ratings_disabled: string (nullable = true)\n",
            " |-- video_error_or_removed: string (nullable = true)\n",
            " |-- description: string (nullable = true)\n",
            "\n"
          ]
        }
      ]
    },
    {
      "cell_type": "code",
      "source": [
        "df_util = df.drop('comments_disabled',\n",
        "                  'ratings_disabled',\n",
        "                  'thumbnail_link')"
      ],
      "metadata": {
        "id": "JXlHHU4D2tLK"
      },
      "execution_count": 9,
      "outputs": []
    },
    {
      "cell_type": "code",
      "source": [
        "df_util.printSchema()"
      ],
      "metadata": {
        "colab": {
          "base_uri": "https://localhost:8080/"
        },
        "id": "O_hv5HZv2yWa",
        "outputId": "05e95d7a-9fc6-4d1e-fc49-6f48967ec0c6"
      },
      "execution_count": 10,
      "outputs": [
        {
          "output_type": "stream",
          "name": "stdout",
          "text": [
            "root\n",
            " |-- video_id: string (nullable = true)\n",
            " |-- trending_date: string (nullable = true)\n",
            " |-- title: string (nullable = true)\n",
            " |-- channel_title: string (nullable = true)\n",
            " |-- category_id: string (nullable = true)\n",
            " |-- publish_time: timestamp (nullable = true)\n",
            " |-- tags: string (nullable = true)\n",
            " |-- views: integer (nullable = true)\n",
            " |-- likes: integer (nullable = true)\n",
            " |-- dislikes: integer (nullable = true)\n",
            " |-- comment_count: integer (nullable = true)\n",
            " |-- video_error_or_removed: string (nullable = true)\n",
            " |-- description: string (nullable = true)\n",
            "\n"
          ]
        }
      ]
    },
    {
      "cell_type": "code",
      "source": [
        "# Sample\n",
        "# Devuelve un conjunto de filas aleatorio del dataframe especificado en el argumento\n",
        "\n",
        "df_muestra = df.sample(0.8) # Una muestra de 80% de las filas del dataframe\n",
        "\n",
        "# Ojo que devuelve un numero aproximadamente de 80%, no el 80% exacto"
      ],
      "metadata": {
        "id": "SQhCFs263Fdf"
      },
      "execution_count": 11,
      "outputs": []
    },
    {
      "cell_type": "code",
      "source": [
        "print(df.count())\n",
        "print(df_muestra.count())"
      ],
      "metadata": {
        "colab": {
          "base_uri": "https://localhost:8080/"
        },
        "id": "TwQRYPVA3VLD",
        "outputId": "dfcc4cac-64a3-4942-b3de-b980a9bfa7ff"
      },
      "execution_count": 13,
      "outputs": [
        {
          "output_type": "stream",
          "name": "stdout",
          "text": [
            "48137\n",
            "38502\n"
          ]
        }
      ]
    },
    {
      "cell_type": "code",
      "source": [
        "# Si quiero replicar el muestreo, debo definir una semilla como argumento de la función\n",
        "\n",
        "df_muestra_dos = df.sample(fraction = 0.8,\n",
        "                           seed = 1234)"
      ],
      "metadata": {
        "id": "DRcn9lw935k5"
      },
      "execution_count": 14,
      "outputs": []
    },
    {
      "cell_type": "code",
      "source": [
        "df_muestra_dos.count()"
      ],
      "metadata": {
        "colab": {
          "base_uri": "https://localhost:8080/"
        },
        "id": "8TEdENqH4HnR",
        "outputId": "bdf7f440-1f60-42aa-c6d9-9eebdd2842fe"
      },
      "execution_count": 15,
      "outputs": [
        {
          "output_type": "execute_result",
          "data": {
            "text/plain": [
              "38506"
            ]
          },
          "metadata": {},
          "execution_count": 15
        }
      ]
    },
    {
      "cell_type": "code",
      "source": [
        "# Funcion randomSploot\n",
        "# Se usa en Machine Learning\n",
        "# Devuelve tantos dataframes como se los especifiquemos\n",
        "# Primero se definnen los nombres de los datafrmes\n",
        "# Luego se definie la función y sus argumentos, se debe ingresar en forma de lista y la suma de ambos valores de la lista debe sumar 1\n",
        "\n",
        "train, test = df.randomSplit([0.8, 0.2]) # El 80% de las filas se asignan al dataframe train y el 20% se asignan al dataframe test"
      ],
      "metadata": {
        "id": "idlkKIWP4ZkR"
      },
      "execution_count": 16,
      "outputs": []
    },
    {
      "cell_type": "code",
      "source": [
        "print(train.count())\n",
        "print(test.count())"
      ],
      "metadata": {
        "colab": {
          "base_uri": "https://localhost:8080/"
        },
        "id": "fLoVUpJ540xt",
        "outputId": "fd966364-518d-418e-dd27-4b013dca6340"
      },
      "execution_count": 17,
      "outputs": [
        {
          "output_type": "stream",
          "name": "stdout",
          "text": [
            "38567\n",
            "9570\n"
          ]
        }
      ]
    },
    {
      "cell_type": "code",
      "source": [
        "# Funcion randomSploot\n",
        "# Tambien puedo pasar un argumento de semilla para que la función sea replicable\n",
        "\n",
        "\n",
        "train, test = df.randomSplit([0.8, 0.2],\n",
        "                             seed = 1234) # El 80% de las filas se asignan al dataframe train y el 20% se asignan al dataframe test"
      ],
      "metadata": {
        "id": "CZqYCpLB5IQm"
      },
      "execution_count": 18,
      "outputs": []
    }
  ]
}